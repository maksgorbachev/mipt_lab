{
  "nbformat": 4,
  "nbformat_minor": 0,
  "metadata": {
    "colab": {
      "name": "Вычислительная математика. Л.р. 2",
      "provenance": [],
      "collapsed_sections": [],
      "include_colab_link": true
    },
    "kernelspec": {
      "name": "python3",
      "display_name": "Python 3"
    },
    "language_info": {
      "name": "python"
    }
  },
  "cells": [
    {
      "cell_type": "markdown",
      "metadata": {
        "id": "view-in-github",
        "colab_type": "text"
      },
      "source": [
        "<a href=\"https://colab.research.google.com/github/maksgorbachev/mipt_lab/blob/master/%D0%92%D1%8B%D1%87%D0%B8%D1%81%D0%BB%D0%B8%D1%82%D0%B5%D0%BB%D1%8C%D0%BD%D0%B0%D1%8F_%D0%BC%D0%B0%D1%82%D0%B5%D0%BC%D0%B0%D1%82%D0%B8%D0%BA%D0%B0_%D0%9B_%D1%80_2.ipynb\" target=\"_parent\"><img src=\"https://colab.research.google.com/assets/colab-badge.svg\" alt=\"Open In Colab\"/></a>"
      ]
    },
    {
      "cell_type": "code",
      "metadata": {
        "colab": {
          "base_uri": "https://localhost:8080/"
        },
        "id": "d2EVSQKLK7vR",
        "outputId": "665fcfbc-9e61-49a2-bf28-1f3858b4c50f"
      },
      "source": [
        "# Проверка решения методом Гаусса\n",
        "\n",
        "A = np.array ([\n",
        "  [10, 10, 10],\n",
        "  [ 1,  91,  4],\n",
        "  [ 7,  8,  9]\n",
        "], dtype=float)\n",
        "\n",
        "x = np.array ([10, 2, 3]) # Готовим результат\n",
        "b = A.dot (x)             # Зная результат, вычисляем b\n",
        "\n",
        "# Посмотрим как выглядит наша матрица\n",
        "Ab = np.column_stack ([A, b])\n",
        "print (Ab)\n",
        "\n",
        "# Решаем и сравниваем результат\n",
        "result_x = solveSLAE_Gauss (A, b)\n",
        "\n",
        "print (f\"x: {x}\")\n",
        "print (f\"solve: {result_x}\")\n",
        "print (f\"The result is \" + int(isZeroArr (x - result_x) == False) * \"in\" + \"correct!\")"
      ],
      "execution_count": 3,
      "outputs": [
        {
          "output_type": "stream",
          "name": "stdout",
          "text": [
            "[[ 10.  10.  10. 150.]\n",
            " [  1.  91.   4. 204.]\n",
            " [  7.   8.   9. 113.]]\n",
            "x: [10  2  3]\n",
            "solve: [10.  2.  3.]\n",
            "The result is correct!\n"
          ]
        }
      ]
    },
    {
      "cell_type": "markdown",
      "metadata": {
        "id": "BKWIMN9oO_2C"
      },
      "source": [
        "## Метод Якоби"
      ]
    },
    {
      "cell_type": "code",
      "metadata": {
        "id": "YBOAXoyzjSWz",
        "colab": {
          "base_uri": "https://localhost:8080/"
        },
        "outputId": "a7da464c-01d7-4218-b43e-e4f6f399b679"
      },
      "source": [
        "def checkSizeSLAE (A, b):\n",
        "  if (A.shape[0] != A.shape[1]):\n",
        "    raise Exception (\"A is not square matrix!\")\n",
        "\n",
        "  if (A.shape[0] != b.size):\n",
        "    raise Exception (\"B has incorrect size!\")\n",
        "\n",
        "def checkOnDiag (A):\n",
        "  size = A.size\n",
        "  for i in range (size):\n",
        "    sum = np.sum (np.abs (A[i])) - 2 * np.abs (A[i][i])\n",
        "    if (sum < 0):\n",
        "      return True\n",
        "  \n",
        "  return False\n",
        "\n",
        "# Условие остановки\n",
        "def solverSLAE_Jacobi (A, b, steps):\n",
        "  checkSizeSLAE (A, b)\n",
        "  if (checkOnDiag (A) == False):\n",
        "    raise Exception (\"Нет диагонального преобладания!\")\n",
        "\n",
        "  size = b.size;\n",
        "  x = np.zeros (size);\n",
        "\n",
        "  for step in range (steps):\n",
        "    x_cur = x.copy ()\n",
        "    for i in range (size):\n",
        "      a = A[i][i]\n",
        "      temp = np.sum (A[i] * x_cur) - x_cur[i] * a\n",
        "      x[i] = (b[i] - temp) / a\n",
        "  \n",
        "  return x\n",
        "\n",
        "result_x = solverSLAE_Jacobi (A, b, 250)\n",
        "\n",
        "print (f\"x: {x}\")\n",
        "print (f\"solve: {result_x}\")\n",
        "print (f\"The result is \" + int(isZeroArr (x - result_x) == False) * \"in\" + \"correct!\")"
      ],
      "execution_count": 4,
      "outputs": [
        {
          "output_type": "stream",
          "name": "stdout",
          "text": [
            "x: [10  2  3]\n",
            "solve: [9.99999954 1.99999998 2.9999996 ]\n",
            "The result is correct!\n"
          ]
        }
      ]
    },
    {
      "cell_type": "markdown",
      "metadata": {
        "id": "14FtE8hSSlaq"
      },
      "source": [
        "## Метод Зейделя"
      ]
    },
    {
      "cell_type": "code",
      "metadata": {
        "colab": {
          "base_uri": "https://localhost:8080/"
        },
        "id": "oIGVkOx-SoYK",
        "outputId": "fb2aac41-a4ab-4e44-e497-ea713d341290"
      },
      "source": [
        "def solverSLAE_Seidel (A, b, steps):\n",
        "  checkSizeSLAE (A, b)\n",
        "\n",
        "  size = b.size;\n",
        "  x = np.zeros (size);\n",
        "\n",
        "  for step in range (steps):\n",
        "    for i in range (size):\n",
        "      a = A[i][i]\n",
        "      temp = np.sum (A[i] * x) - x[i] * a\n",
        "      x[i] = (b[i] - temp) / a\n",
        "  \n",
        "  return x\n",
        "\n",
        "result_x = solverSLAE_Seidel (A, b, 65)\n",
        "\n",
        "print (f\"x: {x}\")\n",
        "print (f\"solve: {result_x}\")\n",
        "print (f\"The result is \" + int(isZeroArr (x - result_x) == False) * \"in\" + \"correct!\")"
      ],
      "execution_count": 5,
      "outputs": [
        {
          "output_type": "stream",
          "name": "stdout",
          "text": [
            "x: [10  2  3]\n",
            "solve: [10.00000038  2.00000001  2.9999997 ]\n",
            "The result is correct!\n"
          ]
        }
      ]
    },
    {
      "cell_type": "code",
      "metadata": {
        "id": "Wljxfsk39Qfs"
      },
      "source": [
        "import numpy as np\n",
        "\n",
        "_zero_eps = 1e-6\n",
        "\n",
        "def isZero (number):\n",
        "  return abs (number) < _zero_eps\n",
        "\n",
        "def isZeroArr (numArr):\n",
        "  return np.sum ([isZero (num) for num in numArr]) == numArr.size\n",
        "\n",
        "def triangalizeMatrix (A):\n",
        "  if ((A.shape[0] <= A.shape[1]) == False):\n",
        "    raise Exception (\"A is not square matrix!\")\n",
        "\n",
        "  size = A.shape[0]\n",
        "\n",
        "  for ref_col in range (size - 1):\n",
        "\n",
        "    if isZero (A[ref_col, ref_col]):\n",
        "      # Находим первый ненулевой элемент в столбце\n",
        "      non_zero_row = -1\n",
        "      for row in range (ref_col, size):\n",
        "        if isZero (A[row, ref_col]) == False:\n",
        "          non_zero_row = row\n",
        "          break;\n",
        "\n",
        "      if (non_zero_row == -1):\n",
        "        continue\n",
        "\n",
        "      A[ref_col] = A[ref_col] - A[non_zero_row]\n",
        "\n",
        "    ref_row = ref_col\n",
        "\n",
        "    A_ref = A[ref_row, ref_col]\n",
        "\n",
        "    for row in range (ref_row + 1, size):\n",
        "      if (isZero(A[row, ref_col])):\n",
        "        continue\n",
        "\n",
        "      alpha = A_ref / A[row, ref_col]\n",
        "\n",
        "      A[row] = A[row] * alpha- A[ref_col]\n",
        "\n",
        "  return A\n",
        "\n",
        "# Example:\n",
        "# Ax = b, then\n",
        "#   [in]:  Ab\n",
        "#   [out]: x\n",
        "# Only for matrix [n, n + 1]\n",
        "def solveTriangMatrix (A):\n",
        "  num_rows = A.shape[0]\n",
        "  num_cols = A.shape[1]\n",
        "\n",
        "  if num_cols - num_rows != 1:\n",
        "    raise Exception (f\"Incorrect size of matrix! Size: [{num_rows}, {num_cols}]\")\n",
        "\n",
        "  x = np.zeros (num_cols)\n",
        "  x[num_cols - 1] = -1\n",
        "\n",
        "  for row in range (num_rows - 1, -1, -1):\n",
        "    x[row] = -np.sum (A[row].dot (x)) / A[row, row]\n",
        "\n",
        "  return x[:-1]\n",
        "\n",
        "# Ax = b\n",
        "# A - square matrix\n",
        "# Where Rg(A) = dim (A)\n",
        "def solveSLAE_Gauss (A, b):\n",
        "  Ab = np.column_stack ([A, b])\n",
        "\n",
        "  Ab_Triang = triangalizeMatrix (Ab)\n",
        "  x = solveTriangMatrix (Ab_Triang)\n",
        "\n",
        "  return x\n"
      ],
      "execution_count": 6,
      "outputs": []
    },
    {
      "cell_type": "markdown",
      "metadata": {
        "id": "QwyUvm6aVwGA"
      },
      "source": [
        "## Метод Гаусса для 3-ёх диагональной матрицы"
      ]
    },
    {
      "cell_type": "code",
      "metadata": {
        "colab": {
          "base_uri": "https://localhost:8080/"
        },
        "id": "bNzajLlSS_3J",
        "outputId": "faa836c5-ea7e-47cf-d18e-2d4305a4d7d4"
      },
      "source": [
        "def solve_3DiagSLAE_Gauss (A, b):\n",
        "  checkSizeSLAE (A, b)\n",
        "\n",
        "  size = b.size\n",
        "  C = np.zeros ([size, 3])\n",
        "\n",
        "  # Прямая прогонка\n",
        "  C[0] = [A[0][0], A[0][1], b[0]]\n",
        "  \n",
        "  for i in range (1, size - 1):\n",
        "    k = C[i-1][0]\n",
        "    C[i] = [\n",
        "      A[i][i] - A[i][i-1]*C[i-1][1]/k,\n",
        "      A[i][i+1],\n",
        "      b[i] - A[i][i-1]*C[i-1][2]/k\n",
        "    ]\n",
        "\n",
        "  i = size - 1\n",
        "  k = C[i-1][0]\n",
        "  C[i] = [\n",
        "      A[i][i] - A[i][i-1]*C[i-1][1]/k,\n",
        "      0,\n",
        "      b[i] - A[i][i-1]*C[i-1][2]/k\n",
        "    ]\n",
        "\n",
        "  print (C)\n",
        "\n",
        "  # Обратная прогонка\n",
        "  x = np.zeros (size)\n",
        "  \n",
        "  x[size-1] = C[size-1][2] / C[size-1][0]\n",
        "\n",
        "  for i in range (size - 2, -1, -1):\n",
        "    x[i] = (C[i][2] - C[i][1] * x[i+1]) / C[i][0]\n",
        "\n",
        "  return x\n",
        "\n",
        "\n",
        "# Testing this method\n",
        "\n",
        "A = np.array ([\n",
        "  [1, 2,  0,  0,  0],\n",
        "  [1, 6,  3,  0,  0],\n",
        "  [0, 2,  4, -5,  0],\n",
        "  [0, 0, -1,  7,  4],\n",
        "  [0, 0,  0,  3, -6],\n",
        "], dtype=float)\n",
        "\n",
        "x = np.array ([1, 2, 3, 4, 5])\n",
        "b = A.dot (x)\n",
        "\n",
        "result_x = solve_3DiagSLAE_Gauss (A, b)\n",
        "\n",
        "print (f\"x: {x}\")\n",
        "print (f\"solve: {result_x}\")\n",
        "print (f\"The result is \" + int(isZeroArr (x - result_x) == False) * \"in\" + \"correct!\")"
      ],
      "execution_count": null,
      "outputs": [
        {
          "output_type": "stream",
          "name": "stdout",
          "text": [
            "[[  1.    2.    5. ]\n",
            " [  4.    3.   17. ]\n",
            " [  2.5  -5.  -12.5]\n",
            " [  5.    4.   40. ]\n",
            " [ -8.4   0.  -42. ]]\n",
            "x: [1 2 3 4 5]\n",
            "solve: [1. 2. 3. 4. 5.]\n",
            "The result is correct!\n"
          ]
        }
      ]
    },
    {
      "cell_type": "markdown",
      "metadata": {
        "id": "LOMniRAueMzg"
      },
      "source": [
        "## Метод Невязок"
      ]
    },
    {
      "cell_type": "code",
      "metadata": {
        "colab": {
          "base_uri": "https://localhost:8080/"
        },
        "id": "6wCJK-0ZbFRK",
        "outputId": "7501f213-ffe0-4b95-cd08-a9e82af6a044"
      },
      "source": [
        "# Критерий остановки\n",
        "def solveSLAE_Residual_1 (A, b, steps):\n",
        "  checkSizeSLAE (A, b)\n",
        "  \n",
        "  size = b.size\n",
        "  x = np.zeros (size)\n",
        "\n",
        "  for step in range (steps):\n",
        "    r = A.dot (x) - b\n",
        "    t = r * r / (A.dot (r) * r)\n",
        "    x_old = x\n",
        "    x = x - t * r\n",
        "\n",
        "    if (np.max (np.abs (x - x_old)) < _zero_eps):\n",
        "      print (f\"step: {step}\")\n",
        "      return x\n",
        "\n",
        "  return x\n",
        "\n",
        "steps = 200\n",
        "\n",
        "result_x = solveSLAE_Residual_1 (A, b, steps)\n",
        "eps_residual_1 = np.max (np.abs (x - result_x))\n",
        "\n",
        "print (f\"x: {x}\")\n",
        "print (f\"solve: {result_x}\")\n",
        "print (f\"The result is \" + int(isZeroArr (x - result_x) == False) * \"in\" + \"correct!\")\n",
        "print (f\"eps: {eps_residual_1}\")"
      ],
      "execution_count": null,
      "outputs": [
        {
          "output_type": "stream",
          "name": "stdout",
          "text": [
            "step: 172\n",
            "x: [1 2 3 4 5]\n",
            "solve: [1.0000001  2.00000016 2.99999976 4.00000046 4.99999961]\n",
            "The result is correct!\n",
            "eps: 4.6383877450040245e-07\n"
          ]
        }
      ]
    },
    {
      "cell_type": "code",
      "metadata": {
        "colab": {
          "base_uri": "https://localhost:8080/"
        },
        "id": "anG30yo-gHA_",
        "outputId": "c6d5e246-f0ae-41ed-c9c0-e98c49b30272"
      },
      "source": [
        "def solveSLAE_Residual_2 (A, b, steps):\n",
        "  checkSizeSLAE (A, b)\n",
        "  \n",
        "  size = b.size\n",
        "  x = np.zeros (size)\n",
        "\n",
        "  for step in range (steps):\n",
        "    r = A.dot (x) - b\n",
        "    t = r * A.dot (r) / (A.dot (r) * A.dot (r))\n",
        "    x = x - t * r\n",
        "\n",
        "  return x\n",
        "\n",
        "result_x = solveSLAE_Residual_2 (A, b, steps)\n",
        "eps_residual_2 = np.max (np.abs (x - result_x))\n",
        "\n",
        "print (f\"x: {x}\")\n",
        "print (f\"solve: {result_x}\")\n",
        "print (f\"The result is \" + int(isZeroArr (x - result_x) == False) * \"in\" + \"correct!\")\n",
        "print (f\"eps: {eps_residual_2}\")\n",
        "\n",
        "print (f\"Отношение погрешностей: {eps_residual_1 / eps_residual_2}\")\n"
      ],
      "execution_count": null,
      "outputs": [
        {
          "output_type": "stream",
          "name": "stdout",
          "text": [
            "x: [1 2 3 4 5]\n",
            "solve: [-1.18381793  3.90136533  4.19928058  7.11505642  9.09679004]\n",
            "The result is incorrect!\n",
            "eps: 4.096790041477361\n",
            "Отношение погрешностей: 1.0\n"
          ]
        }
      ]
    }
  ]
}